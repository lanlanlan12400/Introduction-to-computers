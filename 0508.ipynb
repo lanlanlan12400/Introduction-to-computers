{
  "nbformat": 4,
  "nbformat_minor": 0,
  "metadata": {
    "colab": {
      "provenance": [],
      "authorship_tag": "ABX9TyOukGjIA4jVJcjAPSVlChCU",
      "include_colab_link": true
    },
    "kernelspec": {
      "name": "python3",
      "display_name": "Python 3"
    },
    "language_info": {
      "name": "python"
    }
  },
  "cells": [
    {
      "cell_type": "markdown",
      "metadata": {
        "id": "view-in-github",
        "colab_type": "text"
      },
      "source": [
        "<a href=\"https://colab.research.google.com/github/lanlanlan12400/Introduction-to-computers/blob/main/0508.ipynb\" target=\"_parent\"><img src=\"https://colab.research.google.com/assets/colab-badge.svg\" alt=\"Open In Colab\"/></a>"
      ]
    },
    {
      "cell_type": "code",
      "execution_count": 5,
      "metadata": {
        "colab": {
          "base_uri": "https://localhost:8080/"
        },
        "id": "xsck3E1-EXmy",
        "outputId": "6df929a8-dc3c-40c5-ce1c-dab46238259a"
      },
      "outputs": [
        {
          "output_type": "stream",
          "name": "stdout",
          "text": [
            "請輸入體溫:37.9\n",
            "體溫過高!\n"
          ]
        }
      ],
      "source": [
        "h=float(input('請輸入體溫:'))\n",
        "if(h>=37.5):\n",
        "  print(\"體溫過高!\")\n",
        "elif(37>=h>=37.4 ):\n",
        "    print(\"體溫略高!\")\n",
        "elif(36.9>=h>=34 ):\n",
        "    print(\"體溫正常!\")\n",
        "else:\n",
        "  print(\"體溫異常，請重新測量!\")"
      ]
    },
    {
      "cell_type": "code",
      "source": [
        "n=int(input('請輸入成績:'))\n",
        "if(n>=90):\n",
        "  print(\"A\")\n",
        "elif(89>=n>=80 ):\n",
        "    print(\"B\")\n",
        "elif(79>=n>=70 ):\n",
        "    print(\"C\")\n",
        "elif(69>=n>=60 ):\n",
        "    print(\"D\")\n",
        "else:\n",
        "  print(\"E\")"
      ],
      "metadata": {
        "colab": {
          "base_uri": "https://localhost:8080/"
        },
        "id": "xXfk_hmgGmwV",
        "outputId": "6b2f6be7-cb39-43b7-89f3-9249dc087891"
      },
      "execution_count": 10,
      "outputs": [
        {
          "output_type": "stream",
          "name": "stdout",
          "text": [
            "請輸入成績:76\n",
            "C\n"
          ]
        }
      ]
    },
    {
      "cell_type": "code",
      "source": [
        "month=int(input())\n",
        "if(month>=1 and month<=12):\n",
        "  if(month==3 or month==4 or month==5):\n",
        "    print(\"{} 月是春天!\".format(month))\n",
        "  elif(month==6 or month==7 or month==8):\n",
        "    print(\"{} 月是夏天!\".format(month))\n",
        "  elif(month==9 or month==10 or month==11):\n",
        "    print(\"{} 月是秋天!\".format(month))\n",
        "  else:\n",
        "    print(\"{} 月是冬天!\".format(month))\n",
        "else:\n",
        "  print(\"月份不在範圍內!\")"
      ],
      "metadata": {
        "colab": {
          "base_uri": "https://localhost:8080/"
        },
        "id": "B_FNVJ8mHnxo",
        "outputId": "7e7e2400-d21d-4afd-f878-14ebfbb90651"
      },
      "execution_count": 11,
      "outputs": [
        {
          "output_type": "stream",
          "name": "stdout",
          "text": [
            "5\n",
            "5 月是春天!\n"
          ]
        }
      ]
    }
  ]
}