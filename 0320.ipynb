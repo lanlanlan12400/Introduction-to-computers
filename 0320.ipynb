{
  "nbformat": 4,
  "nbformat_minor": 0,
  "metadata": {
    "colab": {
      "provenance": [],
      "authorship_tag": "ABX9TyNxKrmWjnjATsW8YdeyaGRT",
      "include_colab_link": true
    },
    "kernelspec": {
      "name": "python3",
      "display_name": "Python 3"
    },
    "language_info": {
      "name": "python"
    }
  },
  "cells": [
    {
      "cell_type": "markdown",
      "metadata": {
        "id": "view-in-github",
        "colab_type": "text"
      },
      "source": [
        "<a href=\"https://colab.research.google.com/github/lanlanlan12400/Introduction-to-computers/blob/main/0320.ipynb\" target=\"_parent\"><img src=\"https://colab.research.google.com/assets/colab-badge.svg\" alt=\"Open In Colab\"/></a>"
      ]
    },
    {
      "cell_type": "code",
      "execution_count": 1,
      "metadata": {
        "colab": {
          "base_uri": "https://localhost:8080/"
        },
        "id": "wQcJ1I6IBv7W",
        "outputId": "e43a48ca-24f8-43d0-bf68-39f83daa57bb"
      },
      "outputs": [
        {
          "output_type": "stream",
          "name": "stdout",
          "text": [
            "請輸入國文成績50\n",
            "請輸入英文成績60\n",
            "請輸入數學成績70\n",
            "你的成績總分為:\n",
            "180\n"
          ]
        }
      ],
      "source": [
        "test1=int(input('請輸入國文成績'))\n",
        "test2=int(input('請輸入英文成績'))\n",
        "test3=int(input('請輸入數學成績'))\n",
        "print('你的成績總分為:')\n",
        "print(int(test1+test2+test3))"
      ]
    },
    {
      "cell_type": "code",
      "source": [
        "a=3\n",
        "b=4\n",
        "c=3\n",
        "area=(a+b)*c/2\n",
        "print(area)"
      ],
      "metadata": {
        "colab": {
          "base_uri": "https://localhost:8080/"
        },
        "id": "rqJrYqbBB_B1",
        "outputId": "802cae3f-b394-4829-a5b7-32e714a9ff73"
      },
      "execution_count": 3,
      "outputs": [
        {
          "output_type": "stream",
          "name": "stdout",
          "text": [
            "10.5\n"
          ]
        }
      ]
    },
    {
      "cell_type": "code",
      "source": [
        "weight = 80\n",
        "height_cm =180\n",
        "height_n = height_cm /100\n",
        "bmi = weight / (height_n * height_n)\n",
        "print(bmi)"
      ],
      "metadata": {
        "colab": {
          "base_uri": "https://localhost:8080/"
        },
        "id": "vGeQ_pnRCNZ0",
        "outputId": "b4e52a1e-2ac9-42c3-938c-c90bae1be7e1"
      },
      "execution_count": 4,
      "outputs": [
        {
          "output_type": "stream",
          "name": "stdout",
          "text": [
            "24.691358024691358\n"
          ]
        }
      ]
    }
  ]
}